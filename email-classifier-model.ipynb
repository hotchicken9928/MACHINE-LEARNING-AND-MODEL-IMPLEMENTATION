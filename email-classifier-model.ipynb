{
 "cells": [
  {
   "cell_type": "code",
   "execution_count": 1,
   "id": "2faca1ab-4d76-4c79-8cfb-5bbf7ff114fa",
   "metadata": {},
   "outputs": [],
   "source": [
    "import pandas as pd"
   ]
  },
  {
   "cell_type": "code",
   "execution_count": 2,
   "id": "a314fe02-0e72-4f15-bd6f-78894fe22f8b",
   "metadata": {},
   "outputs": [],
   "source": [
    "import numpy as np"
   ]
  },
  {
   "cell_type": "code",
   "execution_count": 3,
   "id": "23c4e8d9-3804-4075-be08-8d2e06781f5c",
   "metadata": {},
   "outputs": [],
   "source": [
    "from sklearn.model_selection import train_test_split"
   ]
  },
  {
   "cell_type": "code",
   "execution_count": 4,
   "id": "234e8edc-e1c5-42e7-89e9-e6decff05c7d",
   "metadata": {},
   "outputs": [],
   "source": [
    "from sklearn.feature_extraction.text import CountVectorizer"
   ]
  },
  {
   "cell_type": "code",
   "execution_count": 5,
   "id": "71a24e9e-2952-438a-910a-79c2416271bb",
   "metadata": {},
   "outputs": [],
   "source": [
    "from sklearn.naive_bayes import MultinomialNB"
   ]
  },
  {
   "cell_type": "code",
   "execution_count": 6,
   "id": "ca730039-60c0-4ce1-9041-767bb8b9d23e",
   "metadata": {},
   "outputs": [],
   "source": [
    "from sklearn.metrics import accuracy_score, precision_score, recall_score, f1_score, confusion_matrix, classification_report"
   ]
  },
  {
   "cell_type": "code",
   "execution_count": 7,
   "id": "bdd632c1-5700-4860-872f-0ab0982dce98",
   "metadata": {},
   "outputs": [],
   "source": [
    "import matplotlib.pyplot as plt"
   ]
  },
  {
   "cell_type": "code",
   "execution_count": 8,
   "id": "51241201-6bd9-4453-bc9b-d4f4d222ec14",
   "metadata": {},
   "outputs": [],
   "source": [
    "import seaborn as sns"
   ]
  },
  {
   "cell_type": "code",
   "execution_count": 9,
   "id": "e5efb556-5e9a-4c71-a121-d668ea272c64",
   "metadata": {},
   "outputs": [],
   "source": [
    "sns.set_theme(style=\"whitegrid\")"
   ]
  },
  {
   "cell_type": "code",
   "execution_count": 10,
   "id": "6430cd2e-7955-4b94-82c4-c7b2cd4d621e",
   "metadata": {},
   "outputs": [
    {
     "name": "stdout",
     "output_type": "stream",
     "text": [
      "Libraries imported successfully!\n"
     ]
    }
   ],
   "source": [
    "print(\"Libraries imported successfully!\")"
   ]
  },
  {
   "cell_type": "code",
   "execution_count": 11,
   "id": "3fb26763-e505-4310-9e5d-73e2b373bfa8",
   "metadata": {},
   "outputs": [
    {
     "name": "stdout",
     "output_type": "stream",
     "text": [
      "Dataset created:\n",
      "                                               email label\n",
      "0  Congratulations! You've won a free iPhone. Cli...  spam\n",
      "1  Hi John, can we schedule a meeting for tomorro...   ham\n",
      "2  Urgent: Your account has been compromised. Ver...  spam\n",
      "3  Meeting agenda attached. Please review before ...   ham\n",
      "4  Exclusive offer: Get 50% off on all products t...  spam\n",
      "\n",
      "Dataset shape: (10, 2)\n",
      "Label distribution:\n",
      "label\n",
      "spam    5\n",
      "ham     5\n",
      "Name: count, dtype: int64\n"
     ]
    }
   ],
   "source": [
    "data = {\n",
    "    'email': [\n",
    "        \"Congratulations! You've won a free iPhone. Click here!\",\n",
    "        \"Hi John, can we schedule a meeting for tomorrow at 10 AM?\",\n",
    "        \"Urgent: Your account has been compromised. Verify your details now!\",\n",
    "        \"Meeting agenda attached. Please review before our call.\",\n",
    "        \"Exclusive offer: Get 50% off on all products today only!\",\n",
    "        \"Regarding your recent inquiry, here is the information you requested.\",\n",
    "        \"Your package is delayed. Track it here now!\",\n",
    "        \"Project update: We've made great progress this week.\",\n",
    "        \"Limited time offer! Claim your prize money!\",\n",
    "        \"Confirming your appointment for Tuesday.\"\n",
    "    ],\n",
    "    'label': [\n",
    "        'spam',\n",
    "        'ham',\n",
    "        'spam',\n",
    "        'ham',\n",
    "        'spam',\n",
    "        'ham',\n",
    "        'spam',\n",
    "        'ham',\n",
    "        'spam',\n",
    "        'ham'\n",
    "    ]\n",
    "}\n",
    "\n",
    "df = pd.DataFrame(data)\n",
    "\n",
    "print(\"Dataset created:\")\n",
    "print(df.head())\n",
    "print(f\"\\nDataset shape: {df.shape}\")\n",
    "print(f\"Label distribution:\\n{df['label'].value_counts()}\")"
   ]
  },
  {
   "cell_type": "code",
   "execution_count": 12,
   "id": "cd691bcb-7654-45bf-958f-49ad6c2572f9",
   "metadata": {},
   "outputs": [
    {
     "name": "stdout",
     "output_type": "stream",
     "text": [
      "Original text shape: (10,)\n",
      "Vectorized text shape: (10, 71)\n",
      "Number of unique words (features): 71\n",
      "\n",
      "Training set shape: (8, 71)\n",
      "Testing set shape: (2, 71)\n",
      "Training labels shape: (8,)\n",
      "Testing labels shape: (2,)\n"
     ]
    }
   ],
   "source": [
    "X = df['email']\n",
    "y = df['label']\n",
    "\n",
    "vectorizer = CountVectorizer()\n",
    "X_vectorized = vectorizer.fit_transform(X)\n",
    "\n",
    "print(f\"Original text shape: {X.shape}\")\n",
    "print(f\"Vectorized text shape: {X_vectorized.shape}\")\n",
    "print(f\"Number of unique words (features): {len(vectorizer.get_feature_names_out())}\")\n",
    "\n",
    "\n",
    "X_train, X_test, y_train, y_test = train_test_split(\n",
    "    X_vectorized, y, test_size=0.2, random_state=42, stratify=y\n",
    ")\n",
    "\n",
    "print(f\"\\nTraining set shape: {X_train.shape}\")\n",
    "print(f\"Testing set shape: {X_test.shape}\")\n",
    "print(f\"Training labels shape: {y_train.shape}\")\n",
    "print(f\"Testing labels shape: {y_test.shape}\")\n"
   ]
  },
  {
   "cell_type": "code",
   "execution_count": 13,
   "id": "4678f2f2-5b6c-4c43-b396-a3046a5c99b4",
   "metadata": {},
   "outputs": [
    {
     "name": "stdout",
     "output_type": "stream",
     "text": [
      "Model trained successfully!\n"
     ]
    }
   ],
   "source": [
    "# Initialize the Multinomial Naive Bayes classifier\n",
    "model = MultinomialNB()\n",
    "\n",
    "# Train the model using the training data\n",
    "model.fit(X_train, y_train)\n",
    "\n",
    "print(\"Model trained successfully!\")\n"
   ]
  },
  {
   "cell_type": "code",
   "execution_count": 14,
   "id": "8822530b-2eaa-4382-b0ae-086a9b011f69",
   "metadata": {},
   "outputs": [
    {
     "name": "stdout",
     "output_type": "stream",
     "text": [
      "Predictions made on the test set.\n",
      "\n",
      "--- Model Evaluation ---\n",
      "Accuracy: 1.00\n",
      "Precision (Spam): 1.00\n",
      "Recall (Spam): 1.00\n",
      "F1-Score (Spam): 1.00\n",
      "\n",
      "Confusion Matrix:\n",
      "[[1 0]\n",
      " [0 1]]\n"
     ]
    },
    {
     "data": {
      "image/png": "[encoded data removed]",
      "text/plain": [
       "<Figure size 600x500 with 2 Axes>"
      ]
     },
     "metadata": {},
     "output_type": "display_data"
    },
    {
     "name": "stdout",
     "output_type": "stream",
     "text": [
      "\n",
      "Classification Report:\n",
      "              precision    recall  f1-score   support\n",
      "\n",
      "         ham       1.00      1.00      1.00         1\n",
      "        spam       1.00      1.00      1.00         1\n",
      "\n",
      "    accuracy                           1.00         2\n",
      "   macro avg       1.00      1.00      1.00         2\n",
      "weighted avg       1.00      1.00      1.00         2\n",
      "\n"
     ]
    }
   ],
   "source": [
    "# Make predictions on the test set\n",
    "y_pred = model.predict(X_test)\n",
    "\n",
    "print(\"Predictions made on the test set.\")\n",
    "print(\"\\n--- Model Evaluation ---\")\n",
    "\n",
    "# 1. Accuracy Score\n",
    "accuracy = accuracy_score(y_test, y_pred)\n",
    "print(f\"Accuracy: {accuracy:.2f}\")\n",
    "\n",
    "# 2. Precision Score\n",
    "# Precision for 'spam' class\n",
    "precision_spam = precision_score(y_test, y_pred, pos_label='spam')\n",
    "print(f\"Precision (Spam): {precision_spam:.2f}\")\n",
    "\n",
    "# 3. Recall Score\n",
    "# Recall for 'spam' class\n",
    "recall_spam = recall_score(y_test, y_pred, pos_label='spam')\n",
    "print(f\"Recall (Spam): {recall_spam:.2f}\")\n",
    "\n",
    "# 4. F1-Score\n",
    "# F1-score for 'spam' class\n",
    "f1_spam = f1_score(y_test, y_pred, pos_label='spam')\n",
    "print(f\"F1-Score (Spam): {f1_spam:.2f}\")\n",
    "\n",
    "# 5. Confusion Matrix\n",
    "conf_matrix = confusion_matrix(y_test, y_pred, labels=['ham', 'spam']) # Specify labels for clear order\n",
    "print(\"\\nConfusion Matrix:\")\n",
    "print(conf_matrix)\n",
    "\n",
    "# Visualize Confusion Matrix\n",
    "plt.figure(figsize=(6, 5))\n",
    "sns.heatmap(conf_matrix, annot=True, fmt='d', cmap='Blues',\n",
    "            xticklabels=['Predicted Ham', 'Predicted Spam'],\n",
    "            yticklabels=['Actual Ham', 'Actual Spam'])\n",
    "plt.ylabel('Actual Label')\n",
    "plt.xlabel('Predicted Label')\n",
    "plt.title('Confusion Matrix')\n",
    "plt.tight_layout()\n",
    "plt.show()\n",
    "\n",
    "# 6. Classification Report\n",
    "print(\"\\nClassification Report:\")\n",
    "print(classification_report(y_test, y_pred, target_names=['ham', 'spam']))\n"
   ]
  },
  {
   "cell_type": "code",
   "execution_count": null,
   "id": "8cb91031-2052-4cff-a77c-8bfcb3ac37e1",
   "metadata": {},
   "outputs": [],
   "source": []
  }
 ],
 "metadata": {
  "kernelspec": {
   "display_name": "Python 3 (ipykernel)",
   "language": "python",
   "name": "python3"
  },
  "language_info": {
   "codemirror_mode": {
    "name": "ipython",
    "version": 3
   },
   "file_extension": ".py",
   "mimetype": "text/x-python",
   "name": "python",
   "nbconvert_exporter": "python",
   "pygments_lexer": "ipython3",
   "version": "3.13.3"
  }
 },
 "nbformat": 4,
 "nbformat_minor": 5
}
